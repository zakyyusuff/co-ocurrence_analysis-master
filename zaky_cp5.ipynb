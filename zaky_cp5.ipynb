{
 "cells": [
  {
   "cell_type": "code",
   "execution_count": 1,
   "id": "cd2b8214",
   "metadata": {},
   "outputs": [],
   "source": [
    "import sys\n",
    "import os.path\n",
    "\n",
    "from itertools import chain, combinations\n",
    "from collections import defaultdict\n",
    "from optparse import OptionParser\n"
   ]
  },
  {
   "cell_type": "code",
   "execution_count": 2,
   "id": "0df8b38b",
   "metadata": {},
   "outputs": [],
   "source": [
    "def subsets(arr):\n",
    "    \"\"\" Returns non empty subsets of arr\"\"\"\n",
    "    return chain(*[combinations(arr, i + 1) for i, a in enumerate(arr)])"
   ]
  },
  {
   "cell_type": "code",
   "execution_count": 3,
   "id": "37f9142f",
   "metadata": {},
   "outputs": [],
   "source": [
    "def returnItemsWithMinSupport(itemSet, transactionList, minSupport, freqSet):\n",
    "        \"\"\"calculates the support for items in the itemSet and returns a subset\n",
    "       of the itemSet each of whose elements satisfies the minimum support\"\"\"\n",
    "        _itemSet = set()\n",
    "        localSet = defaultdict(int)\n",
    "\n",
    "        for item in itemSet:\n",
    "                for transaction in transactionList:\n",
    "                        if item.issubset(transaction):\n",
    "                                freqSet[item] += 1\n",
    "                                localSet[item] += 1\n",
    "\n",
    "        for item, count in localSet.items():\n",
    "                support = float(count)/len(transactionList)\n",
    "\n",
    "                if support >= minSupport:\n",
    "                        _itemSet.add(item)\n",
    "\n",
    "        return _itemSet"
   ]
  },
  {
   "cell_type": "code",
   "execution_count": 4,
   "id": "99243b90",
   "metadata": {},
   "outputs": [],
   "source": [
    "def joinSet(itemSet, length):\n",
    "        \"\"\"Join a set with itself and returns the n-element itemsets\"\"\"\n",
    "        return set([i.union(j) for i in itemSet for j in itemSet if len(i.union(j)) == length])\n"
   ]
  },
  {
   "cell_type": "code",
   "execution_count": 5,
   "id": "23c04901",
   "metadata": {},
   "outputs": [],
   "source": [
    "def getItemSetTransactionList(data_iterator):\n",
    "    transactionList = list()\n",
    "    itemSet = set()\n",
    "    for record in data_iterator:\n",
    "        transaction = frozenset(record)\n",
    "        transactionList.append(transaction)\n",
    "        for item in transaction:\n",
    "            itemSet.add(frozenset([item]))              # Generate 1-itemSets\n",
    "    return itemSet, transactionList\n"
   ]
  },
  {
   "cell_type": "code",
   "execution_count": 44,
   "id": "cc1a5633",
   "metadata": {},
   "outputs": [],
   "source": [
    "def runApriori(data_iter, minSupport, minConfidence):\n",
    "    \"\"\"\n",
    "    run the apriori algorithm. data_iter is a record iterator\n",
    "    Return both:\n",
    "     - items (tuple, support)\n",
    "     - rules ((pretuple, posttuple), confidence)\n",
    "    \"\"\"\n",
    "    itemSet, transactionList = getItemSetTransactionList(data_iter)\n",
    "\n",
    "    freqSet = defaultdict(int)\n",
    "    largeSet = dict()\n",
    "    # Global dictionary which stores (key=n-itemSets,value=support)\n",
    "    # which satisfy minSupport\n",
    "\n",
    "    assocRules = dict()\n",
    "    # Dictionary which stores Association Rules\n",
    "\n",
    "    oneCSet = returnItemsWithMinSupport(itemSet,\n",
    "                                        transactionList,\n",
    "                                        minSupport,\n",
    "                                        freqSet)\n",
    "\n",
    "    currentLSet = oneCSet\n",
    "    k = 2\n",
    "    while(currentLSet != set([])):\n",
    "        largeSet[k-1] = currentLSet\n",
    "        currentLSet = joinSet(currentLSet, k)\n",
    "        currentCSet = returnItemsWithMinSupport(currentLSet, transactionList, minSupport, freqSet)\n",
    "        currentLSet = currentCSet\n",
    "        k = k + 1"
   ]
  },
  {
   "cell_type": "code",
   "execution_count": 76,
   "id": "aa4bdb9d",
   "metadata": {},
   "outputs": [
    {
     "ename": "IndentationError",
     "evalue": "unindent does not match any outer indentation level (<tokenize>, line 5)",
     "output_type": "error",
     "traceback": [
      "\u001b[1;36m  File \u001b[1;32m\"<tokenize>\"\u001b[1;36m, line \u001b[1;32m5\u001b[0m\n\u001b[1;33m    toRetItems = []\u001b[0m\n\u001b[1;37m    ^\u001b[0m\n\u001b[1;31mIndentationError\u001b[0m\u001b[1;31m:\u001b[0m unindent does not match any outer indentation level\n"
     ]
    }
   ],
   "source": [
    " def getSupport(item):\n",
    "            \"\"\"local function which Returns the support of an item\"\"\"\n",
    "            return float(freqSet[item])/len(transactionList)\n",
    "\n",
    "    toRetItems = []\n",
    "    for key, value in largeSet.items():\n",
    "        toRetItems.extend([(tuple(item), getSupport(item))\n",
    "                        for item in value])\n",
    "\n",
    "    toRetRules = []\n",
    "    for key, value in largeSet.items()[1:]:\n",
    "        for item in value:\n",
    "            _subsets = map(frozenset, [x for x in subsets(item)])\n",
    "            for element in _subsets:\n",
    "                remain = item.difference(element)\n",
    "                if len(remain) > 0:\n",
    "                    confidence = getSupport(item)/getSupport(element)\n",
    "                    if confidence >= minConfidence:\n",
    "                        toRetRules.append(((tuple(element), tuple(remain)),confidence))\n",
    "    return toRetItems, toRetRules\n"
   ]
  },
  {
   "cell_type": "code",
   "execution_count": 13,
   "id": "9b00e524",
   "metadata": {},
   "outputs": [
    {
     "ename": "SyntaxError",
     "evalue": "invalid syntax (3703769297.py, line 3)",
     "output_type": "error",
     "traceback": [
      "\u001b[1;36m  File \u001b[1;32m\"C:\\Users\\AKU\\AppData\\Local\\Temp\\ipykernel_13140\\3703769297.py\"\u001b[1;36m, line \u001b[1;32m3\u001b[0m\n\u001b[1;33m    for item, support in sorted(items, key=lambda (item, support): support):\u001b[0m\n\u001b[1;37m                                                  ^\u001b[0m\n\u001b[1;31mSyntaxError\u001b[0m\u001b[1;31m:\u001b[0m invalid syntax\n"
     ]
    }
   ],
   "source": [
    "def printResults(items, rules):\n",
    "    \"\"\"prints the generated itemsets sorted by support and the confidence rules sorted by confidence\"\"\"\n",
    "    for item, support in sorted(items, key=lambda (item, support): support):\n",
    "        print \"item: %s , %.3f\" % (str(item), support)\n",
    "    print \"\\n------------------------ RULES:\"\n",
    "    for rule, confidence in sorted(rules, key=lambda (rule, confidence): confidence):\n",
    "        pre, post = rule\n",
    "        print \"Rule: %s ==> %s , %.3f\" % (str(pre), str(post), confidence)"
   ]
  },
  {
   "cell_type": "code",
   "execution_count": 74,
   "id": "8f56b46d",
   "metadata": {},
   "outputs": [
    {
     "name": "stdout",
     "output_type": "stream",
     "text": [
      "Collecting threatspec\n",
      "  Downloading threatspec-0.5.0.tar.gz (1.6 MB)\n",
      "Collecting python-magic-bin\n",
      "  Downloading python_magic_bin-0.4.14-py2.py3-none-win_amd64.whl (409 kB)\n",
      "Requirement already satisfied: Click in c:\\anaconda3\\envs\\zaky\\lib\\site-packages (from threatspec) (8.0.4)\n",
      "Collecting graphviz\n",
      "  Downloading graphviz-0.20-py3-none-any.whl (46 kB)\n",
      "Requirement already satisfied: pyyaml in c:\\anaconda3\\envs\\zaky\\lib\\site-packages (from threatspec) (6.0)\n",
      "Requirement already satisfied: jsonschema in c:\\anaconda3\\envs\\zaky\\lib\\site-packages (from threatspec) (4.4.0)\n",
      "Requirement already satisfied: jinja2 in c:\\anaconda3\\envs\\zaky\\lib\\site-packages (from threatspec) (3.0.3)\n",
      "Collecting comment_parser\n",
      "  Downloading comment_parser-1.2.4.tar.gz (8.3 kB)\n",
      "Requirement already satisfied: importlib-metadata in c:\\anaconda3\\envs\\zaky\\lib\\site-packages (from Click->threatspec) (4.11.3)\n",
      "Requirement already satisfied: colorama in c:\\anaconda3\\envs\\zaky\\lib\\site-packages (from Click->threatspec) (0.4.4)\n",
      "Collecting python-magic==0.4.24\n",
      "  Downloading python_magic-0.4.24-py2.py3-none-any.whl (12 kB)\n",
      "Requirement already satisfied: typing-extensions>=3.6.4 in c:\\anaconda3\\envs\\zaky\\lib\\site-packages (from importlib-metadata->Click->threatspec) (4.1.1)\n",
      "Requirement already satisfied: zipp>=0.5 in c:\\anaconda3\\envs\\zaky\\lib\\site-packages (from importlib-metadata->Click->threatspec) (3.8.0)\n",
      "Requirement already satisfied: MarkupSafe>=2.0 in c:\\anaconda3\\envs\\zaky\\lib\\site-packages (from jinja2->threatspec) (2.0.1)\n",
      "Requirement already satisfied: importlib-resources>=1.4.0 in c:\\anaconda3\\envs\\zaky\\lib\\site-packages (from jsonschema->threatspec) (5.2.0)\n",
      "Requirement already satisfied: attrs>=17.4.0 in c:\\anaconda3\\envs\\zaky\\lib\\site-packages (from jsonschema->threatspec) (21.4.0)\n",
      "Requirement already satisfied: pyrsistent!=0.17.0,!=0.17.1,!=0.17.2,>=0.14.0 in c:\\anaconda3\\envs\\zaky\\lib\\site-packages (from jsonschema->threatspec) (0.18.0)\n",
      "Building wheels for collected packages: threatspec, comment-parser\n",
      "  Building wheel for threatspec (setup.py): started\n",
      "  Building wheel for threatspec (setup.py): finished with status 'done'\n",
      "  Created wheel for threatspec: filename=threatspec-0.5.0-py3-none-any.whl size=22393 sha256=56a281b1f382ceb001973a064cbfec86e88679e9e831891b71ca145d6e4917bf\n",
      "  Stored in directory: c:\\users\\aku\\appdata\\local\\pip\\cache\\wheels\\3c\\4e\\e7\\0f39aedb8f7c5a675714bc3cc3fe1d06800185e46b18165b06\n",
      "  Building wheel for comment-parser (setup.py): started\n",
      "  Building wheel for comment-parser (setup.py): finished with status 'done'\n",
      "  Created wheel for comment-parser: filename=comment_parser-1.2.4-py3-none-any.whl size=11890 sha256=ffb320a2df5f9e7f9c130b572b730fbf107e1d3c06defd3c7aa6301d721d6a0e\n",
      "  Stored in directory: c:\\users\\aku\\appdata\\local\\pip\\cache\\wheels\\ed\\24\\8e\\ed2f2205f1732ec95e646b46418909fa305db1efd5faaaf7b1\n",
      "Successfully built threatspec comment-parser\n",
      "Installing collected packages: python-magic, graphviz, comment-parser, threatspec, python-magic-bin\n",
      "Successfully installed comment-parser-1.2.4 graphviz-0.20 python-magic-0.4.24 python-magic-bin-0.4.14 threatspec-0.5.0\n",
      "Note: you may need to restart the kernel to use updated packages.\n"
     ]
    }
   ],
   "source": [
    "pip install threatspec python-magic-bin "
   ]
  },
  {
   "cell_type": "code",
   "execution_count": null,
   "id": "3d54aaf4",
   "metadata": {},
   "outputs": [],
   "source": []
  }
 ],
 "metadata": {
  "kernelspec": {
   "display_name": "Python 3 (ipykernel)",
   "language": "python",
   "name": "python3"
  },
  "language_info": {
   "codemirror_mode": {
    "name": "ipython",
    "version": 3
   },
   "file_extension": ".py",
   "mimetype": "text/x-python",
   "name": "python",
   "nbconvert_exporter": "python",
   "pygments_lexer": "ipython3",
   "version": "3.7.13"
  }
 },
 "nbformat": 4,
 "nbformat_minor": 5
}
